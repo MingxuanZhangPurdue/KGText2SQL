{
 "cells": [
  {
   "cell_type": "code",
   "execution_count": 10,
   "metadata": {},
   "outputs": [
    {
     "data": {
      "text/plain": [
       "True"
      ]
     },
     "execution_count": 10,
     "metadata": {},
     "output_type": "execute_result"
    }
   ],
   "source": [
    "import json\n",
    "import os\n",
    "import sqlite3\n",
    "\n",
    "from tqdm import tqdm\n",
    "from openai import OpenAI\n",
    "from dotenv import load_dotenv\n",
    "from pathlib import Path\n",
    "\n",
    "from utils.spider import load_tables\n",
    "\n",
    "load_dotenv()"
   ]
  },
  {
   "cell_type": "code",
   "execution_count": 11,
   "metadata": {},
   "outputs": [],
   "source": [
    "class Arguments:\n",
    "    input = \"datasets/spider_data/dev.json\"\n",
    "    output = \"results/predicted.sql\"\n",
    "    dir = \"datasets/spider_data\"\n",
    "    tables = \"tables.json\"\n",
    "    db = \"database\"\n",
    "    model = \"gpt-4o-mini\"\n",
    "    temperature = 0.0\n",
    "    max_tokens = 1000\n",
    "\n",
    "args = Arguments()"
   ]
  },
  {
   "cell_type": "code",
   "execution_count": 17,
   "metadata": {},
   "outputs": [
    {
     "name": "stdout",
     "output_type": "stream",
     "text": [
      "Reading questions from  datasets/spider_data/dev.json\n",
      "Total number of questions:  1034\n",
      "Loading schemas...\n",
      "Loading DB connections...\n"
     ]
    },
    {
     "name": "stderr",
     "output_type": "stream",
     "text": [
      "DB connections: 100%|██████████| 166/166 [00:01<00:00, 142.31it/s]\n"
     ]
    }
   ],
   "source": [
    "client = OpenAI(api_key=os.environ.get(\"OPENAI_API_KEY\", \"<your OpenAI API key if not set as env var>\"))\n",
    "\n",
    "system_prompt = \"\"\"You are an expert SQL assistant specialized in converting natural language queries into accurate SQL statements. You:\n",
    "1. Understand database schemas and relationships\n",
    "2. Generate standard SQL queries that follow best practices\n",
    "3. Consider edge cases and data validation\n",
    "4. Can handle complex joins, aggregations, and nested queries\n",
    "When given a question, you will convert it to a valid SQL query based on the provided database schema.\n",
    "Only output the raw SQL query without any markdown formatting, code blocks, or additional text. \n",
    "For example, output should look like: SELECT * FROM table;\"\"\"\n",
    "\n",
    "# Load questions from JSON file\n",
    "print (\"Reading questions from \", args.input)\n",
    "with open(args.input, 'r') as f:\n",
    "    examples = json.load(f)\n",
    "print (\"Total number of questions: \", len(examples))\n",
    "\n",
    "# load schemas for all the DBs\n",
    "print (\"Loading schemas...\")\n",
    "schemas, _ = load_tables([os.path.join(args.dir, args.tables)])\n",
    "\n",
    "# Backup in-memory copies of all the DBs and create the live connections\n",
    "print (\"Loading DB connections...\")\n",
    "for db_id, schema in tqdm(schemas.items(), desc=\"DB connections\"):\n",
    "    sqlite_path = Path(args.dir) / args.db / db_id / f\"{db_id}.sqlite\"\n",
    "    source: sqlite3.Connection\n",
    "    with sqlite3.connect(str(sqlite_path)) as source:\n",
    "        dest = sqlite3.connect(':memory:')\n",
    "        dest.row_factory = sqlite3.Row\n",
    "        source.backup(dest)\n",
    "    schema.connection = dest\n",
    "\n",
    "# Get all the CREATE statements for all the DBs\n",
    "db_schemas = {}\n",
    "for db_id, _ in schemas.items():\n",
    "    connection = schemas[db_id].connection\n",
    "    cursor = connection.cursor()\n",
    "    # Query sqlite_master table to get all CREATE statements\n",
    "    cursor.execute(\"\"\"\n",
    "        SELECT sql \n",
    "        FROM sqlite_master \n",
    "        WHERE type='table' AND sql IS NOT NULL\n",
    "    \"\"\")\n",
    "    # Convert list of tuples to a single string of CREATE statements\n",
    "    create_statements = '\\n'.join(row[0] for row in cursor.fetchall())\n",
    "    db_schemas[db_id] = create_statements"
   ]
  },
  {
   "cell_type": "code",
   "execution_count": 13,
   "metadata": {},
   "outputs": [
    {
     "name": "stdout",
     "output_type": "stream",
     "text": [
      "CREATE TABLE \"author\" (\n",
      "\"aid\" int,\n",
      "\"homepage\" text,\n",
      "\"name\" text,\n",
      "\"oid\" int,\n",
      "primary key(\"aid\")\n",
      ")\n",
      "CREATE TABLE \"conference\" (\n",
      "\"cid\" int,\n",
      "\"homepage\" text,\n",
      "\"name\" text,\n",
      "primary key (\"cid\")\n",
      ")\n",
      "CREATE TABLE \"domain\" (\n",
      "\"did\" int,\n",
      "\"name\" text,\n",
      "primary key (\"did\")\n",
      ")\n",
      "CREATE TABLE \"domain_author\" (\n",
      "\"aid\" int, \n",
      "\"did\" int,\n",
      "primary key (\"did\", \"aid\"),\n",
      "foreign key(\"aid\") references `author`(\"aid\"),\n",
      "foreign key(\"did\") references `domain`(\"did\")\n",
      ")\n",
      "CREATE TABLE \"domain_conference\" (\n",
      "\"cid\" int,\n",
      "\"did\" int,\n",
      "primary key (\"did\", \"cid\"),\n",
      "foreign key(\"cid\") references `conference`(\"cid\"),\n",
      "foreign key(\"did\") references `domain`(\"did\")\n",
      ")\n",
      "CREATE TABLE \"journal\" (\n",
      "\"homepage\" text,\n",
      "\"jid\" int,\n",
      "\"name\" text,\n",
      "primary key(\"jid\")\n",
      ")\n",
      "CREATE TABLE \"domain_journal\" (\n",
      "\"did\" int,\n",
      "\"jid\" int,\n",
      "primary key (\"did\", \"jid\"),\n",
      "foreign key(\"jid\") references \"journal\"(\"jid\"),\n",
      "foreign key(\"did\") references \"domain\"(\"did\")\n",
      ")\n",
      "CREATE TABLE \"keyword\" (\n",
      "\"keyword\" text,\n",
      "\"kid\" int,\n",
      "primary key(\"kid\")\n",
      ")\n",
      "CREATE TABLE \"domain_keyword\" (\n",
      "\"did\" int,\n",
      "\"kid\" int,\n",
      "primary key (\"did\", \"kid\"),\n",
      "foreign key(\"kid\") references \"keyword\"(\"kid\"),\n",
      "foreign key(\"did\") references \"domain\"(\"did\")\n",
      ")\n",
      "CREATE TABLE \"publication\" (\n",
      "\"abstract\" text,\n",
      "\"cid\" text,\n",
      "\"citation_num\" int,\n",
      "\"jid\" int,\n",
      "\"pid\" int,\n",
      "\"reference_num\" int,\n",
      "\"title\" text,\n",
      "\"year\" int,\n",
      "primary key(\"pid\"),\n",
      "foreign key(\"jid\") references \"journal\"(\"jid\"),\n",
      "foreign key(\"cid\") references \"conference\"(\"cid\")\n",
      ")\n",
      "CREATE TABLE \"domain_publication\" (\n",
      "\"did\" int,\n",
      "\"pid\" int,\n",
      "primary key (\"did\", \"pid\"),\n",
      "foreign key(\"pid\") references \"publication\"(\"pid\"),\n",
      "foreign key(\"did\") references \"domain\"(\"did\")\n",
      ")\n",
      "CREATE TABLE \"organization\" (\n",
      "\"continent\" text,\n",
      "\"homepage\" text,\n",
      "\"name\" text,\n",
      "\"oid\" int,\n",
      "primary key(\"oid\")\n",
      ")\n",
      "CREATE TABLE \"publication_keyword\" (\n",
      "\"pid\" int,\n",
      "\"kid\" int,\n",
      "primary key (\"kid\", \"pid\"),\n",
      "foreign key(\"pid\") references \"publication\"(\"pid\"),\n",
      "foreign key(\"kid\") references \"keyword\"(\"kid\")\n",
      ")\n",
      "CREATE TABLE \"writes\" (\n",
      "\"aid\" int,\n",
      "\"pid\" int,\n",
      "primary key (\"aid\", \"pid\"),\n",
      "foreign key(\"pid\") references \"publication\"(\"pid\"),\n",
      "foreign key(\"aid\") references \"author\"(\"aid\")\n",
      ")\n",
      "CREATE TABLE \"cite\" (\n",
      "\"cited\" int,\n",
      "\"citing\"  int,\n",
      "foreign key(\"cited\") references \"publication\"(\"pid\"),\n",
      "foreign key(\"citing\") references \"publication\"(\"pid\")\n",
      ")\n"
     ]
    }
   ],
   "source": [
    "print (db_schemas[\"academic\"])"
   ]
  },
  {
   "cell_type": "code",
   "execution_count": 14,
   "metadata": {},
   "outputs": [
    {
     "name": "stdout",
     "output_type": "stream",
     "text": [
      "### Database Schema:\n",
      "CREATE TABLE \"stadium\" (\n",
      "\"Stadium_ID\" int,\n",
      "\"Location\" text,\n",
      "\"Name\" text,\n",
      "\"Capacity\" int,\n",
      "\"Highest\" int,\n",
      "\"Lowest\" int,\n",
      "\"Average\" int,\n",
      "PRIMARY KEY (\"Stadium_ID\")\n",
      ")\n",
      "CREATE TABLE \"singer\" (\n",
      "\"Singer_ID\" int,\n",
      "\"Name\" text,\n",
      "\"Country\" text,\n",
      "\"Song_Name\" text,\n",
      "\"Song_release_year\" text,\n",
      "\"Age\" int,\n",
      "\"Is_male\" bool,\n",
      "PRIMARY KEY (\"Singer_ID\")\n",
      ")\n",
      "CREATE TABLE \"concert\" (\n",
      "\"concert_ID\" int,\n",
      "\"concert_Name\" text,\n",
      "\"Theme\" text,\n",
      "\"Stadium_ID\" text,\n",
      "\"Year\" text,\n",
      "PRIMARY KEY (\"concert_ID\"),\n",
      "FOREIGN KEY (\"Stadium_ID\") REFERENCES \"stadium\"(\"Stadium_ID\")\n",
      ")\n",
      "CREATE TABLE \"singer_in_concert\" (\n",
      "\"concert_ID\" int,\n",
      "\"Singer_ID\" text,\n",
      "PRIMARY KEY (\"concert_ID\",\"Singer_ID\"),\n",
      "FOREIGN KEY (\"concert_ID\") REFERENCES \"concert\"(\"concert_ID\"),\n",
      "FOREIGN KEY (\"Singer_ID\") REFERENCES \"singer\"(\"Singer_ID\")\n",
      ")\n",
      "### Question:\n",
      "How many singers do we have?\n",
      "### SQL Query:\n",
      "\n"
     ]
    }
   ],
   "source": [
    "example = examples[0]\n",
    "question = example[\"question\"]\n",
    "db_id = example[\"db_id\"]\n",
    "code_representation = db_schemas[db_id]\n",
    "\n",
    "user_prompt = f\"\"\"### Database Schema:\n",
    "{code_representation}\n",
    "### Question:\n",
    "{question}\n",
    "### SQL Query:\n",
    "\"\"\"\n",
    "\n",
    "print (user_prompt)"
   ]
  },
  {
   "cell_type": "code",
   "execution_count": 18,
   "metadata": {},
   "outputs": [
    {
     "name": "stdout",
     "output_type": "stream",
     "text": [
      "SELECT COUNT(*) FROM singer;\n"
     ]
    }
   ],
   "source": [
    "response = client.chat.completions.create(\n",
    "    model=args.model,\n",
    "    messages=[\n",
    "        {\"role\": \"system\", \"content\": system_prompt},\n",
    "        {\"role\": \"user\", \"content\": user_prompt},\n",
    "    ],\n",
    "    temperature=args.temperature,\n",
    "    max_tokens=args.max_tokens,\n",
    ")\n",
    "\n",
    "predicted_sql = response.choices[0].message.content\n",
    "print (predicted_sql)"
   ]
  }
 ],
 "metadata": {
  "kernelspec": {
   "display_name": "mingxuan",
   "language": "python",
   "name": "python3"
  },
  "language_info": {
   "codemirror_mode": {
    "name": "ipython",
    "version": 3
   },
   "file_extension": ".py",
   "mimetype": "text/x-python",
   "name": "python",
   "nbconvert_exporter": "python",
   "pygments_lexer": "ipython3",
   "version": "3.11.9"
  }
 },
 "nbformat": 4,
 "nbformat_minor": 2
}
