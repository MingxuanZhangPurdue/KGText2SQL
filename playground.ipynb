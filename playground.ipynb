{
 "cells": [
  {
   "cell_type": "code",
   "execution_count": null,
   "metadata": {},
   "outputs": [],
   "source": [
    "import json\n",
    "import os\n",
    "import sqlite3\n",
    "\n",
    "from tqdm import tqdm\n",
    "from openai import OpenAI\n",
    "from dotenv import load_dotenv\n",
    "from pathlib import Path\n",
    "\n",
    "from utils.spider import load_tables\n",
    "\n",
    "load_dotenv()"
   ]
  },
  {
   "cell_type": "code",
   "execution_count": 4,
   "metadata": {},
   "outputs": [],
   "source": [
    "class Arguments:\n",
    "    input = \"datasets/spider_data/dev.json\"\n",
    "    output = \"results/predicted.sql\"\n",
    "    dir = \"datasets/spider_data\"\n",
    "    tables = \"tables.json\"\n",
    "    db = \"database\"\n",
    "    model = \"gpt-4o\"\n",
    "    temperature = 0.0\n",
    "    max_tokens = 1000\n",
    "\n",
    "args = Arguments()"
   ]
  },
  {
   "cell_type": "code",
   "execution_count": null,
   "metadata": {},
   "outputs": [],
   "source": [
    "client = OpenAI(api_key=os.environ.get(\"OPENAI_API_KEY\", \"<your OpenAI API key if not set as env var>\"))\n",
    "\n",
    "system_prompt = \"\"\"You are an expert SQL assistant specialized in converting natural language queries into accurate SQL statements.\n",
    "When given a question, you will convert it to a valid SQL query based on the provided database schema.\n",
    "Only output the raw SQL query in one line without any markdown formatting, code blocks, or additional text.\"\"\"\n",
    "\n",
    "# Load questions from JSON file\n",
    "print (\"Reading questions from \", args.input)\n",
    "with open(args.input, 'r') as f:\n",
    "    examples = json.load(f)\n",
    "print (\"Total number of questions: \", len(examples))\n",
    "\n",
    "# load schemas for all the DBs\n",
    "print (\"Loading schemas...\")\n",
    "schemas, _ = load_tables([os.path.join(args.dir, args.tables)])\n",
    "\n",
    "# Backup in-memory copies of all the DBs and create the live connections\n",
    "print (\"Loading DB connections...\")\n",
    "for db_id, schema in tqdm(schemas.items(), desc=\"DB connections\"):\n",
    "    sqlite_path = Path(args.dir) / args.db / db_id / f\"{db_id}.sqlite\"\n",
    "    source: sqlite3.Connection\n",
    "    with sqlite3.connect(str(sqlite_path)) as source:\n",
    "        dest = sqlite3.connect(':memory:')\n",
    "        dest.row_factory = sqlite3.Row\n",
    "        source.backup(dest)\n",
    "    schema.connection = dest\n",
    "\n",
    "# Get all the CREATE statements for all the DBs\n",
    "db_schemas = {}\n",
    "for db_id, _ in schemas.items():\n",
    "    connection = schemas[db_id].connection\n",
    "    cursor = connection.cursor()\n",
    "    # Query sqlite_master table to get all CREATE statements\n",
    "    cursor.execute(\"\"\"\n",
    "        SELECT sql \n",
    "        FROM sqlite_master \n",
    "        WHERE type='table' AND sql IS NOT NULL\n",
    "    \"\"\")\n",
    "    # Convert list of tuples to a single string of CREATE statements\n",
    "    create_statements = '\\n'.join(row[0] for row in cursor.fetchall())\n",
    "    db_schemas[db_id] = create_statements"
   ]
  },
  {
   "cell_type": "code",
   "execution_count": null,
   "metadata": {},
   "outputs": [],
   "source": [
    "print (db_schemas[\"academic\"])"
   ]
  },
  {
   "cell_type": "code",
   "execution_count": null,
   "metadata": {},
   "outputs": [],
   "source": [
    "example = examples[0]\n",
    "question = example[\"question\"]\n",
    "db_id = example[\"db_id\"]\n",
    "code_representation = db_schemas[db_id]\n",
    "\n",
    "user_prompt = f\"\"\"### Database Schema:\n",
    "{code_representation}\n",
    "### Question:\n",
    "{question}\n",
    "### SQL Query:\n",
    "\"\"\"\n",
    "\n",
    "print (user_prompt)"
   ]
  },
  {
   "cell_type": "code",
   "execution_count": null,
   "metadata": {},
   "outputs": [],
   "source": [
    "response = client.chat.completions.create(\n",
    "    model=args.model,\n",
    "    messages=[\n",
    "        {\"role\": \"system\", \"content\": system_prompt},\n",
    "        {\"role\": \"user\", \"content\": user_prompt},\n",
    "    ],\n",
    "    temperature=args.temperature,\n",
    "    max_tokens=args.max_tokens,\n",
    ")\n",
    "\n",
    "predicted_sql = response.choices[0].message.content\n",
    "print (predicted_sql)"
   ]
  }
 ],
 "metadata": {
  "kernelspec": {
   "display_name": "mingxuan",
   "language": "python",
   "name": "python3"
  },
  "language_info": {
   "codemirror_mode": {
    "name": "ipython",
    "version": 3
   },
   "file_extension": ".py",
   "mimetype": "text/x-python",
   "name": "python",
   "nbconvert_exporter": "python",
   "pygments_lexer": "ipython3",
   "version": "3.11.9"
  }
 },
 "nbformat": 4,
 "nbformat_minor": 2
}
